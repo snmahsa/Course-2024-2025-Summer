{
 "cells": [
  {
   "cell_type": "markdown",
   "metadata": {},
   "source": [
    "### Standard deviation with numpy"
   ]
  },
  {
   "cell_type": "code",
   "execution_count": 1,
   "metadata": {},
   "outputs": [
    {
     "name": "stdout",
     "output_type": "stream",
     "text": [
      "7.0710678118654755\n"
     ]
    }
   ],
   "source": [
    "import numpy as np\n",
    "\n",
    "data = [10, 15, 20, 25, 30]\n",
    "std_dev = np.std(data)\n",
    "print(std_dev)\n"
   ]
  },
  {
   "cell_type": "markdown",
   "metadata": {},
   "source": [
    "The formula for calculating the standard deviation:"
   ]
  },
  {
   "cell_type": "markdown",
   "metadata": {},
   "source": [
    "sqrt(sum((x - mean(x))^2) / N)"
   ]
  },
  {
   "cell_type": "markdown",
   "metadata": {},
   "source": [
    "### Standard deviation with pandas"
   ]
  },
  {
   "cell_type": "code",
   "execution_count": 1,
   "metadata": {},
   "outputs": [
    {
     "name": "stdout",
     "output_type": "stream",
     "text": [
      "7.905694150420948\n"
     ]
    }
   ],
   "source": [
    "import pandas as pd\n",
    "\n",
    "\n",
    "data = pd.Series([10, 15, 20, 25, 30])\n",
    "std_dev = data.std()\n",
    "print(std_dev)  # Output: 7.0710678118654755"
   ]
  },
  {
   "cell_type": "markdown",
   "metadata": {},
   "source": [
    "The formula for calculating the standard deviation:"
   ]
  },
  {
   "cell_type": "markdown",
   "metadata": {},
   "source": [
    "sqrt(sum((x - mean(x))^2) / (N-1))"
   ]
  },
  {
   "cell_type": "markdown",
   "metadata": {},
   "source": [
    "That is, in Pandas, the standard deviation is calculated by dividing the sum of squared deviations by N-1, while in Nampai, dividing by N is done."
   ]
  },
  {
   "cell_type": "markdown",
   "metadata": {},
   "source": [
    "### Definition KDE:"
   ]
  },
  {
   "cell_type": "markdown",
   "metadata": {},
   "source": [
    "The KDE (Kernel Density Estimation) chart is a way to visually show how the data is distributed. Instead of using a histogram that shows the data in categories, this chart uses a continuous curve to show the distribution. In this method, instead of categorizing the data like a histogram, a kernel function is used. It is used to estimate the distribution curve. The shape of this curve depends on the kernel function parameters.\n",
    "\n",
    "The kernel function is a simple mathematical function that calculates a value for each data. This value shows how much \"importance\" or \"weight\" each data has in calculating the final chart.\n",
    "\n",
    "For example, if the Gaussian function is used as a kernel function, the data close to each other will have more \"weight\" and the data further away will have less \"weight\". This makes the final graph have a bell shape.\n",
    "\n",
    "On the other hand, if the uniform function is used, all the data will have almost equal weight and the final graph will have a flatter shape."
   ]
  },
  {
   "cell_type": "markdown",
   "metadata": {},
   "source": [
    "### statistical parameters"
   ]
  },
  {
   "cell_type": "markdown",
   "metadata": {},
   "source": [
    "\n",
    "\n",
    "1.    Median: The middle point when the data is ordered from smallest to largest. The median is more resistant to outliers compared to the average.\n",
    "\n",
    "2.    Range: The difference between the largest and smallest data values. This parameter shows how spread out the data is.\n",
    "\n",
    "3.    Interquartile Range (IQR): The difference between the first quartile and the third quartile, which contains the central 50% of the data. This also shows the spread of the data.\n",
    "\n",
    "4.    Coefficient of Variation: The ratio of the standard deviation to the mean. This refers to the amount of variation in the data compared to the average.\n",
    "\n",
    "5.    Quartiles: These divide the data into four equal parts and identify the points that separate these four parts.\n"
   ]
  }
 ],
 "metadata": {
  "kernelspec": {
   "display_name": "Python 3",
   "language": "python",
   "name": "python3"
  },
  "language_info": {
   "codemirror_mode": {
    "name": "ipython",
    "version": 3
   },
   "file_extension": ".py",
   "mimetype": "text/x-python",
   "name": "python",
   "nbconvert_exporter": "python",
   "pygments_lexer": "ipython3",
   "version": "3.10.12"
  }
 },
 "nbformat": 4,
 "nbformat_minor": 2
}
